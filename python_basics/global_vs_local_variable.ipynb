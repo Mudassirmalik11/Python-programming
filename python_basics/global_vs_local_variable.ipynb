{
 "cells": [
  {
   "cell_type": "markdown",
   "id": "5f8c2f36",
   "metadata": {},
   "source": [
    "# 1. Local vs. Global variables\n"
   ]
  },
  {
   "cell_type": "code",
   "execution_count": 9,
   "id": "fa695c63",
   "metadata": {},
   "outputs": [
    {
     "name": "stdout",
     "output_type": "stream",
     "text": [
      "Isnide function : x = global, y = 5\n",
      "Outside function : x = global\n"
     ]
    }
   ],
   "source": [
    "k = 10  # global variables\n",
    "def my_function():\n",
    "    y = 5  # local variable\n",
    "    print(f\"Isnide function : x = {x}, y = {y}\")\n",
    "\n",
    "my_function()\n",
    "print (f\"Outside function : x = {x}\")  # y cannot be accessed here    "
   ]
  },
  {
   "cell_type": "markdown",
   "id": "a76fe718",
   "metadata": {},
   "source": [
    "# 2. How python handles varaible Scope?\n",
    "\n",
    "1. __Local(L)-__ Variable declared inside a function.\n",
    "2. __Enclosing(E)-__ Variables in enclosing function (nested functions).\n",
    "3. __Global(G)-__ Variables declared at the top level of a script.\n",
    "4. __Built-in(B)-__ Predefined variables in python(e.g.,print,len)\n",
    " \n",
    "__Example:LEGB Rule in Action__ "
   ]
  },
  {
   "cell_type": "code",
   "execution_count": 10,
   "id": "f5a32ef4",
   "metadata": {},
   "outputs": [
    {
     "name": "stdout",
     "output_type": "stream",
     "text": [
      "inside inner function: local\n",
      "Inside outer function: enclosing\n",
      "Outside all functions: global\n"
     ]
    }
   ],
   "source": [
    "x = 'global'   # Global variable\n",
    "\n",
    "def outer_function():\n",
    "    x = 'enclosing'   # Enclosing variable\n",
    "    def inner_function():\n",
    "        x = 'local'  # local variable\n",
    "        print('inside inner function:', x) # prints local variable\n",
    "    inner_function()\n",
    "    print(\"Inside outer function:\", x)  # prints enclosing variable\n",
    "outer_function()\n",
    "print('Outside all functions:', x)   # prints the global variable        "
   ]
  },
  {
   "cell_type": "code",
   "execution_count": null,
   "id": "5b4f0d7e",
   "metadata": {},
   "outputs": [],
   "source": []
  }
 ],
 "metadata": {
  "kernelspec": {
   "display_name": "python_eda",
   "language": "python",
   "name": "python3"
  },
  "language_info": {
   "codemirror_mode": {
    "name": "ipython",
    "version": 3
   },
   "file_extension": ".py",
   "mimetype": "text/x-python",
   "name": "python",
   "nbconvert_exporter": "python",
   "pygments_lexer": "ipython3",
   "version": "3.11.0"
  }
 },
 "nbformat": 4,
 "nbformat_minor": 5
}
