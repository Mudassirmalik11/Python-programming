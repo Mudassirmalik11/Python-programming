{
 "cells": [
  {
   "cell_type": "markdown",
   "id": "cb963baa",
   "metadata": {},
   "source": [
    "# Fuctions\n",
    "\n",
    "Just like in a restaurant,where recipes help chefs work __faster and mor efficiently__,function help programmers with __cleaner and reusable__ code.\n",
    "\n",
    "# benefits of functions (Using our restaurant analogy)\n",
    "\n",
    "* __Avoids Repetition__ - instead of writing the same steps repeatedly,we create a function (recipe) and reuse it.\n",
    "* __Modular and Organized__ - just like restaurants have different recipes for different dishes, programs have functions for different tasks.\n",
    "* __Improves Readability & Debugging__ - if there's an issue with a dish,the chef fixes the recipe instead of checking \n",
    "every signle order,similarly, debugging is work with functions.\n",
    "* __Enhance Collaboration__ -different chefs can prpare different dishes simultaneously,just as developers can work on different functions in a program.\n",
    "\n",
    "# types of functions in python\n",
    "\n",
    "just like restaurant have different types of recipes (for main courses,desserts,and drinks),python has different types of functions:\n",
    "\n",
    "1. **Built-in Functions** These are pre-defined function that come with python,like ready-made recipes taht chefs can use immediately.\n",
    "\n",
    "2. **User-defined Functions** these are functions created by the programmer ,lke a chef inventing a new dish for the menu.\n",
    "\n",
    "# Demonstrating Built-in Functions in Python\n",
    "\n",
    "Now that we understand what functions are and why they are useful,let's explore **buit-in funciont** in python.\n",
    "\n",
    "Built-in functions are lik the **ready-made sauces and ingredients** available in a restaurant.Instead of making them from scracth.python provides built-in functions that help us perform common tasks **without writing extra code**."
   ]
  },
  {
   "cell_type": "code",
   "execution_count": 1,
   "id": "a6ecddb8",
   "metadata": {},
   "outputs": [
    {
     "name": "stdout",
     "output_type": "stream",
     "text": [
      "welcome to python functions!\n"
     ]
    }
   ],
   "source": [
    "# the print() function displays outpur (like a waiter serving food).\n",
    "print(\"welcome to python functions!\")"
   ]
  },
  {
   "cell_type": "code",
   "execution_count": null,
   "id": "59625182",
   "metadata": {},
   "outputs": [],
   "source": [
    "# input() functions takes user input (like a waiter taking an order).\n",
    "name =input(\"Enter your name:\")\n",
    "Print(\"Hello,\"name)"
   ]
  }
 ],
 "metadata": {
  "kernelspec": {
   "display_name": "python_eda",
   "language": "python",
   "name": "python3"
  },
  "language_info": {
   "codemirror_mode": {
    "name": "ipython",
    "version": 3
   },
   "file_extension": ".py",
   "mimetype": "text/x-python",
   "name": "python",
   "nbconvert_exporter": "python",
   "pygments_lexer": "ipython3",
   "version": "3.11.0"
  }
 },
 "nbformat": 4,
 "nbformat_minor": 5
}
