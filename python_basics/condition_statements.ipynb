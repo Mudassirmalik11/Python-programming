{
 "cells": [
  {
   "cell_type": "markdown",
   "id": "c28e5630",
   "metadata": {},
   "source": [
    "# Conditions in programming\n",
    "\n",
    "in real life, we make decisions all the time based on certain conditions.\n",
    "* it __rains__,we take we __take an unmbrella__.\n",
    "* if we __are hungry__, we __eat food__.\n",
    "* if the __battery is low__, we __charge the phone__.\n",
    "\n",
    "Computers also need to make decisions when running a program.\n",
    "\n",
    "This is where __conditional statements__ help!\n",
    "\n",
    "# Real-World Analogy: Traffic Signals\n",
    "\n",
    "Imagine you're driving a car and reach a __traffic signal__:\n",
    "\n",
    "1. __if the light is green__, you __go__\n",
    "2. __if the light is red__, you __stop__\n",
    "3. __if the light is yellow__,you __slow down and prpare to stop__\n",
    "\n",
    "Just like traffic signal control movement based on conditions,programming conditions __ control how code executes__.\n",
    "\n",
    "# How <span style=\"background-color: rgba(211, 211, 211, 0.2)\">if_elif-else </span> Evaluates conditions\n",
    "\n",
    "python's <span style=\"background-color:rgba(211, 211, 211, 0.2)\">if-elif-else </span> structure works by __evaluating conditions one by \n",
    "\n",
    "one__ in sequence. Each condition must ultimately resolve to __either  <span style=\"background-color:rgba(211, 211, 211, 0.5)\">True </span> or  <span style=\"background-color:rgba(211, 211, 211, 0.2)\">False </span>\n",
    "\n",
    "* __if condition is  <span style=\"background-color:rgba(211, 211, 211, 0.2)\">True </span>__,python executes that block and __skips the rest__.\n",
    "* __if all conditions are  <span style=\"background-color:rgba(211, 211, 211, 0.2)\">False</span>__,the  <span style=\"background-color:rgba(211, 211, 211, 0.5)\">else </span> block executes(if present).\n",
    "* __Only one condition is executed in an  <span style=\"background-color:rgba(211, 211, 211, 0.2)\">if-elif-else </span> chain__.\n",
    "\n",
    "\n"
   ]
  },
  {
   "cell_type": "code",
   "execution_count": 1,
   "id": "198135ab",
   "metadata": {},
   "outputs": [
    {
     "name": "stdout",
     "output_type": "stream",
     "text": [
      "You can Go!\n"
     ]
    }
   ],
   "source": [
    "# Traffic example: controlling traffic based on light color\n",
    "\n",
    "# Define the traffic light color\n",
    "traffic_light = \"Green\"\n",
    "\n",
    "# Check the condition\n",
    "if traffic_light == \"Green\":\n",
    "    print(\"You can Go!\")    # if the light is green, cars can go"
   ]
  },
  {
   "cell_type": "code",
   "execution_count": 2,
   "id": "d63bd21d",
   "metadata": {},
   "outputs": [
    {
     "name": "stdout",
     "output_type": "stream",
     "text": [
      "You must Stop!\n"
     ]
    }
   ],
   "source": [
    "# Traffic light Example: Stopping or Going Based on light color\n",
    "\n",
    "# Define the traffic light color\n",
    "traffic_light = \"Red\"\n",
    "\n",
    "# Check the condition\n",
    "if traffic_light == \"Green\":\n",
    "    print(\"You can Go!\")    # if the light is green, cars can go\n",
    "else:\n",
    "    print(\"You must Stop!\")  # if the light is Red ,cars must stop    \n",
    "\n"
   ]
  },
  {
   "cell_type": "code",
   "execution_count": 3,
   "id": "5939870d",
   "metadata": {},
   "outputs": [
    {
     "name": "stdout",
     "output_type": "stream",
     "text": [
      "Slow down and Prepare to stop!\n"
     ]
    }
   ],
   "source": [
    "# Traffic Light Example: Handling Different Light Signals\n",
    "\n",
    "# Define the traffic light color\n",
    "traffic_light = \"Yellow\"\n",
    "\n",
    "# check the condition\n",
    "if traffic_light == \"Green\":\n",
    "    print(\"You can Go!\")   # if the light is green, cars can go\n",
    "elif traffic_light == \"Red\":\n",
    "    print(\"You must STOP!\")  # if the light is Red ,cars must stop\n",
    "else:\n",
    "    print(\"Slow down and Prepare to stop!\") # if the is yellow, cars should slow down        "
   ]
  },
  {
   "cell_type": "markdown",
   "id": "1f739525",
   "metadata": {},
   "source": [
    "# Using Logical Operators with <span style=\"background-color:rgba(211, 211, 211, 0.2)\">if</span> Statement\n",
    "\n",
    "Logicl operators allow us to __combine multiple conditions:\n",
    "\n",
    "* **<span style=\"background-color:rgba(211, 211, 211, 0.2)\">and</span>**-Returns <span style=\"background-color:rgba(211, 211, 211, 0.2)\">True </span>if **both** conditions are true.\n",
    "* **<span style=\"background-color:rgba(211, 211, 211, 0.2)\">or</span>**- Returns <span style=\"background-color:rgba(211, 211, 211, 0.2)\">True</span> if **at least one** condition is true.\n",
    "* **<span style=\"background-color:rgba(211, 211, 211, 0.2)\">not</span>**-Reverses the condition."
   ]
  },
  {
   "cell_type": "code",
   "execution_count": 4,
   "id": "d64e0019",
   "metadata": {},
   "outputs": [
    {
     "name": "stdout",
     "output_type": "stream",
     "text": [
      "pedestrains should  WAIT!\n"
     ]
    }
   ],
   "source": [
    "# Traffic light example usning AND: checking if pedestrain can cross saferly\n",
    "\n",
    "# Define the pedestrain signal status\n",
    "pedestrain_signal = \"Flashing\"\n",
    "\n",
    "# check the condition\n",
    "if pedestrain_signal == \"Walk\" and pedestrain_signal != \"Flashing\":\n",
    "    print(\"pedestrain can CROSS safely!\")   # if the signal is \"walk\" and not flashing, they can cross\n",
    "else:\n",
    "    print(\"pedestrains should  WAIT!\")   # if the signal is flashing or not \"walk\", they should wait   "
   ]
  },
  {
   "cell_type": "code",
   "execution_count": 5,
   "id": "8cdd9530",
   "metadata": {},
   "outputs": [
    {
     "name": "stdout",
     "output_type": "stream",
     "text": [
      "You can GO!\n"
     ]
    }
   ],
   "source": [
    "# Traffic light example using OR: Allowing emergency vehicles to pass\n",
    "\n",
    "# Define the traffice light color\n",
    "traffic_light = \"Red\"\n",
    "\n",
    "# Define the vehicle type\n",
    "vehicle_type = \"Ambulance\"\n",
    "\n",
    "#checi if the light is green or if it's and amergency vehicle\n",
    "if traffic_light == \"Green\" or vehicle_type == \"Ambulance\":\n",
    "    print(\"You can GO!\")  # emervency vehicles can go even if the light is red\n",
    "else:\n",
    "    print(\"You must STOP!\")  # Regular vehicles must stop if the light is red    "
   ]
  },
  {
   "cell_type": "code",
   "execution_count": 7,
   "id": "1bbd3b50",
   "metadata": {},
   "outputs": [
    {
     "name": "stdout",
     "output_type": "stream",
     "text": [
      "Do NOT cross!\n"
     ]
    }
   ],
   "source": [
    "# traffic light example using NOT: enssuring no unotheroized crossing\n",
    "\n",
    "# Define the pedestrain signal status\n",
    "pedestrain_signal = \"Don't Walk\"\n",
    "\n",
    "# check if pedestrain should not cross\n",
    "if not pedestrain_signal == \"Walk\":\n",
    "    print(\"Do NOT cross!\")   # if the signal is not \"Walk\", pedestrains must wait\n",
    "else:\n",
    "    print(\"you can CROSS safely!\") # if the signal is \"Walk\",pedestrains can cross    "
   ]
  },
  {
   "cell_type": "markdown",
   "id": "837ba634",
   "metadata": {},
   "source": [
    "# Nested Conditions\n",
    "\n",
    "Sometimes ,decisions depends on __multiple levels of conditions__.We can  <span style=\"background-color:rgba(211, 211, 211, 0.2)\">if</span> statement inside other <span style=\"background-color:rgba(211, 211, 211, 0.2)\">if</span> statements."
   ]
  },
  {
   "cell_type": "code",
   "execution_count": 10,
   "id": "841691e6",
   "metadata": {},
   "outputs": [
    {
     "name": "stdout",
     "output_type": "stream",
     "text": [
      "Slow down! You are exceeding the speed limit!\n"
     ]
    }
   ],
   "source": [
    "# Traffic Light example: checking traffic rules compliance\n",
    "\n",
    "# Define the speed of the car(in km/h)\n",
    "car_speed = 90\n",
    "# define wheather the driver is wearing a seatbelt\n",
    "seatbelt_on = False\n",
    "\n",
    "# check if the driver is following traffic rules\n",
    "if car_speed <=60:   # speed limit check\n",
    "    if seatbelt_on:  # seatbelt check\n",
    "        print(\"You are driving savely!\")\n",
    "    else:\n",
    "        print(\"Warning! please wear your seatbelt.\" ) \n",
    "else:\n",
    "    print(\"Slow down! You are exceeding the speed limit!\")           "
   ]
  },
  {
   "cell_type": "code",
   "execution_count": 11,
   "id": "e7107725",
   "metadata": {},
   "outputs": [
    {
     "name": "stdout",
     "output_type": "stream",
     "text": [
      "you can GO! the road is clear.\n"
     ]
    }
   ],
   "source": [
    "# traffic light example: managing traffic flow at an intersection\n",
    "\n",
    "# define the rffic light color \n",
    "traffic_light = \"Green\"\n",
    "\n",
    "# define wheater the road is clear\n",
    "road_clear = True\n",
    " \n",
    "# checking the traffic conditions\n",
    "if traffic_light == \"Green\":\n",
    "    # nested condition: checking if the road is clear\n",
    "    if road_clear:\n",
    "        print(\"you can GO! the road is clear.\")\n",
    "    else:\n",
    "        print(\"Wait! the road is not clear, even though the light is green\") \n",
    "elif traffic_light == \"Yellow\":\n",
    "    print(\"Slow down and prepare to stop!\")\n",
    "else:\n",
    "    print(\"You must STOP!\")                "
   ]
  }
 ],
 "metadata": {
  "kernelspec": {
   "display_name": "python_eda",
   "language": "python",
   "name": "python3"
  },
  "language_info": {
   "codemirror_mode": {
    "name": "ipython",
    "version": 3
   },
   "file_extension": ".py",
   "mimetype": "text/x-python",
   "name": "python",
   "nbconvert_exporter": "python",
   "pygments_lexer": "ipython3",
   "version": "3.11.0"
  }
 },
 "nbformat": 4,
 "nbformat_minor": 5
}
