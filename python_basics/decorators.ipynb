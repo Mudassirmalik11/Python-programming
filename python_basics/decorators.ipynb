{
 "cells": [
  {
   "cell_type": "markdown",
   "id": "e3195ee9",
   "metadata": {},
   "source": [
    "# 1. What are Decorators?\n",
    "\n",
    "Decorators in python are functions that modify the behavior of other functions without changing their code.They allow us to extend or enhance functions in a reusable way.\n",
    "\n",
    "__Key Features__\n",
    "\n",
    "* Allow __code reusability.\n",
    "* Improve code readability.\n",
    "* Used for logging ,authentication,timing functions , and more.\n",
    "# 2. Why Do We Use Decorators?\n",
    "Decorators help us __avoid code duplication__ by adding extra functionality without modifying the original code .\n",
    "\n",
    "__use cases of decorator__.\n",
    "\n",
    "* __Logging function execution.__\n",
    "* __Measuring execution time of a function.__\n",
    "* __Checking user authentication before executing a function__\n",
    "\n",
    "\n",
    "# 3. Functions as first-class citiizens\n",
    "\n",
    "in python, functions can be treated like any other variable:\n",
    "\n",
    "* __Assigned to a variable__\n",
    "* __Passed as an argument__\n",
    "* __Returned from other function__\n",
    "\n",
    "__Example: Passing a Function as an argument__"
   ]
  },
  {
   "cell_type": "code",
   "execution_count": 1,
   "id": "71d7debb",
   "metadata": {},
   "outputs": [
    {
     "name": "stdout",
     "output_type": "stream",
     "text": [
      "Heloo\n"
     ]
    }
   ],
   "source": [
    "def greet():\n",
    "    return 'Heloo'\n",
    "\n",
    "def call_function(func):\n",
    "    return func()\n",
    "\n",
    "print(call_function(greet))    # Output: 'Hello'    "
   ]
  },
  {
   "cell_type": "markdown",
   "id": "bd375fa6",
   "metadata": {},
   "source": [
    "# 4. Basic Structure of a Decorator \n",
    "\n",
    "A decorator is a function that wraps another function __to modify its behavior.__\n",
    "\n",
    "__Syntax__\n"
   ]
  },
  {
   "cell_type": "code",
   "execution_count": 2,
   "id": "ec91aa6b",
   "metadata": {},
   "outputs": [],
   "source": [
    "def decorator_function(original_function):\n",
    "    def wrapper_function():\n",
    "        # Add extra functionality \n",
    "        return original_function()\n",
    "    return wrapper_function"
   ]
  },
  {
   "cell_type": "markdown",
   "id": "76b58a68",
   "metadata": {},
   "source": [
    "__Example: A simple decorator that  logs function calls__"
   ]
  },
  {
   "cell_type": "code",
   "execution_count": 4,
   "id": "196d74d8",
   "metadata": {},
   "outputs": [
    {
     "name": "stdout",
     "output_type": "stream",
     "text": [
      "Calling function :say_hello\n",
      "Hello!\n"
     ]
    }
   ],
   "source": [
    "# Define a decorator function that takes another function as an argument\n",
    "def log_decorator(func):\n",
    "    # Define a wrapper function that will modify the behavior of the original function\n",
    "    def wrapper():\n",
    "        print(f'Calling function :{func.__name__}')  # Print the name of the function being called\n",
    "        return func() # call the original function\n",
    "    return wrapper  # Retrun the modified function\n",
    "\n",
    "# Apply the decorator to the 'say_hello' function using @log_decorator\n",
    "\n",
    "@log_decorator\n",
    "def say_hello():\n",
    "    print('Hello!')  # This function simply prints \"Hello!\"\n",
    "\n",
    "# Call the decorator function\n",
    "say_hello()    \n",
    "\n",
    "# Output:\n",
    "# Calling function: say_hello\n",
    "# Hello!\n"
   ]
  }
 ],
 "metadata": {
  "kernelspec": {
   "display_name": "python_eda",
   "language": "python",
   "name": "python3"
  },
  "language_info": {
   "codemirror_mode": {
    "name": "ipython",
    "version": 3
   },
   "file_extension": ".py",
   "mimetype": "text/x-python",
   "name": "python",
   "nbconvert_exporter": "python",
   "pygments_lexer": "ipython3",
   "version": "3.11.0"
  }
 },
 "nbformat": 4,
 "nbformat_minor": 5
}
