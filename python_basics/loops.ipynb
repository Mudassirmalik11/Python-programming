{
 "cells": [
  {
   "cell_type": "markdown",
   "id": "3fda5ce7",
   "metadata": {},
   "source": [
    "# 1. For Loops\n",
    "\n",
    "The for Loop in python is used for iterating over a sequence (lists,strings,tuples,dictionaries,etc).It processes each element one at a time in a very readable format.\n",
    "\n",
    "Basic Syntax:L\n",
    "for item im sequnece"
   ]
  },
  {
   "cell_type": "code",
   "execution_count": 1,
   "id": "61277d8b",
   "metadata": {},
   "outputs": [
    {
     "name": "stdout",
     "output_type": "stream",
     "text": [
      "1\n",
      "2\n",
      "3\n",
      "4\n",
      "5\n"
     ]
    }
   ],
   "source": [
    "# Example 1: Iterating over a list of numbers\n",
    "numbers = [1,2,3,4,5]    # A simple list of numbers\n",
    "for num in numbers:\n",
    "    print(num)"
   ]
  },
  {
   "cell_type": "markdown",
   "id": "6780429e",
   "metadata": {},
   "source": [
    "# using enumerate() if for Loops\n",
    "\n",
    "sometime, you need both the item and its index. Python's built-in enumerate() function makes this easy."
   ]
  },
  {
   "cell_type": "code",
   "execution_count": 2,
   "id": "7eb3263f",
   "metadata": {},
   "outputs": [
    {
     "name": "stdout",
     "output_type": "stream",
     "text": [
      "Index 0:apple\n",
      "Index 1:banana\n",
      "Index 2:cherry\n"
     ]
    }
   ],
   "source": [
    "# Example 2: Using enumerate to get both index and values from a list\n",
    "fruits = [\"apple\",\"banana\",\"cherry\"]    # List of fruit names\n",
    "for index,fruit in enumerate(fruits):     # enumerate retuns index and item\n",
    "    print(f\"Index {index}:{fruit}\")       # f-string used for clear output formatting"
   ]
  },
  {
   "cell_type": "code",
   "execution_count": 3,
   "id": "8ed3f2b0",
   "metadata": {},
   "outputs": [
    {
     "name": "stdout",
     "output_type": "stream",
     "text": [
      "Index 0: apple\n",
      "Index 1: banana\n",
      "Index 2: cherry\n"
     ]
    }
   ],
   "source": [
    "# List of fruit names\n",
    "fruits =[\"apple\",\"banana\",\"cherry\"]\n",
    "\n",
    "# Initialize a counter variable \n",
    "index = 0\n",
    " \n",
    " # iterate over each fruit in the list\n",
    "for fruit in fruits:\n",
    "    print(f\"Index {index}: {fruit}\")    # print the current index and the fruit\n",
    "    index += 1   # Manually increment the index counter\n",
    "       "
   ]
  },
  {
   "cell_type": "markdown",
   "id": "90953a3b",
   "metadata": {},
   "source": [
    "# Iterating over dictionaries\n",
    "\n",
    "Dictionaries are key-value pairs. You can iterate over:\n",
    "\n",
    "1. Keys: By default ,looping over a dictionary return its keys.\n",
    "2. Values: Using .values().\n",
    "3. Key-Value Pairs: Using .items()."
   ]
  },
  {
   "cell_type": "code",
   "execution_count": 4,
   "id": "735a2ac4",
   "metadata": {},
   "outputs": [
    {
     "name": "stdout",
     "output_type": "stream",
     "text": [
      "Iterating over keys:\n",
      "name: Alice\n",
      "age: 30\n",
      "city: New York\n"
     ]
    }
   ],
   "source": [
    "# Example 3: Iterating over dictionaries\n",
    "person = {\n",
    "    'name' : 'Alice',     # key: 'name', value: 'Alice'\n",
    "    'age' : 30,           # key: 'age', value: 30\n",
    "    'city' : 'New York'   # key: 'city', value: 'New York'\n",
    "}\n",
    "\n",
    "# Iterating over keys (default behavior)\n",
    "print(\"Iterating over keys:\")\n",
    "for key in person:\n",
    "    print(f\"{key}: {person[key]}\")   # Access the value using the key"
   ]
  },
  {
   "cell_type": "code",
   "execution_count": 5,
   "id": "36470ac8",
   "metadata": {},
   "outputs": [
    {
     "name": "stdout",
     "output_type": "stream",
     "text": [
      "\n",
      "Iterating over key-value pairs:\n",
      "name: Alice\n",
      "age: 30\n",
      "city: New York\n"
     ]
    }
   ],
   "source": [
    "# Iterating over key-value pairs using .items()\n",
    "print(\"\\nIterating over key-value pairs:\")\n",
    "for key, value in person.items():\n",
    "    print(f\"{key}: {value}\")"
   ]
  },
  {
   "cell_type": "markdown",
   "id": "1a9da0af",
   "metadata": {},
   "source": [
    "# 2. While Loops\n",
    "\n",
    "The while loop runs as long as a specified condition is True.\n"
   ]
  },
  {
   "cell_type": "code",
   "execution_count": 6,
   "id": "cd02c03a",
   "metadata": {},
   "outputs": [
    {
     "name": "stdout",
     "output_type": "stream",
     "text": [
      "count is : 0\n",
      "count is : 1\n",
      "count is : 2\n",
      "count is : 3\n",
      "count is : 4\n"
     ]
    }
   ],
   "source": [
    "# Example 4: A basic while loop that counts from 0 to 4\n",
    "count = 0          # Initialize the counter variable\n",
    "while count < 5:    # Loop will run as long as count is less than 5\n",
    "    print(\"count is :\",count) \n",
    "    count += 1        # Increment the counter to avoid an infinite loop"
   ]
  },
  {
   "cell_type": "markdown",
   "id": "900b2730",
   "metadata": {},
   "source": [
    "# Loop Control \n",
    "\n",
    "1. break:\n",
    " \n",
    "   * Exits the loop immediately\n",
    "\n",
    "   * Useful when a certain condition is met and further processing is unnecessary.\n",
    "\n",
    "2. continue:\n",
    "   * Skips the current iteration and movers to the next one.\n",
    "\n",
    "   * Ideal for bypassing specific condition without stopping teh entire loop.\n",
    "\n",
    "3. else:\n",
    "   * Runs when the loop completes naturally(i.e, it is not terminated by a break statement).\n",
    "   \n",
    "   * Can be used to execute code after the loop finishes processing.\n",
    "     \n"
   ]
  },
  {
   "cell_type": "code",
   "execution_count": null,
   "id": "277a813a",
   "metadata": {},
   "outputs": [
    {
     "name": "stdout",
     "output_type": "stream",
     "text": [
      "Current Number: 0\n",
      "Current Number: 1\n",
      "Current Number: 2\n",
      "Skipping 3\n",
      "Current Number: 4\n",
      "Current Number: 5\n",
      "Current Number: 6\n",
      "Current Number: 7\n",
      "Breaking at 8\n"
     ]
    }
   ],
   "source": [
    "# Example 5: Using break, continue and else in a loop\n",
    "for i in range(10):\n",
    "    if i == 3:\n",
    "        print(\"Skipping 3\")\n",
    "        continue   # skip the rest of the code in loop when i is 3 and continue to next\n",
    "    if i == 8:\n",
    "        print(\"Breaking at 8\")\n",
    "        break       # exit the loop entirely when i is 8\n",
    "    print(\"Current Number:\",i)\n",
    "else:\n",
    "    # This block executes only if the loop wasn't terminated by break\n",
    "    print(\"Loop completed without break.\")    "
   ]
  }
 ],
 "metadata": {
  "kernelspec": {
   "display_name": "python_eda",
   "language": "python",
   "name": "python3"
  },
  "language_info": {
   "codemirror_mode": {
    "name": "ipython",
    "version": 3
   },
   "file_extension": ".py",
   "mimetype": "text/x-python",
   "name": "python",
   "nbconvert_exporter": "python",
   "pygments_lexer": "ipython3",
   "version": "3.11.0"
  }
 },
 "nbformat": 4,
 "nbformat_minor": 5
}
