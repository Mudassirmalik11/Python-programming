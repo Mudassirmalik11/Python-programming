{
 "cells": [
  {
   "cell_type": "markdown",
   "id": "11881577",
   "metadata": {},
   "source": [
    "# Python Data Types for Beginners \n",
    "\n",
    "In Python, every piece of data is and object. Understanding Python's built-in data types is fundemental for writing efficient , readable, and bug free program.Python's core data types and show you best practices on hot to work with them.\n",
    "\n",
    "1.Numeric Types \n",
    "\n",
    "Python has three main numeric data types:\n",
    "\n",
    "    1. Integer (int)- Whole numbers(e.g.,0,1,-5,999).\n",
    "\n",
    "    2. Float (float) - Numbers decimal points or in exponential form (e.g., 3.14 , 2.7e3).\n",
    "\n",
    "1.1 Integers\n",
    "# Defination : Integers are whole Numbers without a fractional component\n",
    "Example: -10,0,43.\n"
   ]
  },
  {
   "cell_type": "code",
   "execution_count": 1,
   "id": "7117b86e",
   "metadata": {},
   "outputs": [
    {
     "name": "stdout",
     "output_type": "stream",
     "text": [
      "num: 42 <class 'int'>\n",
      "num:2 -7 <class 'int'>\n",
      "num3: 0 <class 'int'>\n"
     ]
    }
   ],
   "source": [
    "# Examples of Integers\n",
    "num1 = 42\n",
    "num2 = -7\n",
    "num3 = 0\n",
    "\n",
    "print(\"num:\", num1, type(num1))\n",
    "print(\"num:2\", num2, type(num2))\n",
    "print(\"num3:\", num3, type(num3))"
   ]
  },
  {
   "cell_type": "markdown",
   "id": "63a29f95",
   "metadata": {},
   "source": [
    "# Best Practices \n",
    "\n",
    "  1. descriptive variable names: instead of x or y, use user_age or items-count.\n",
    "  2. Handle potential: In Python, 3 integes are of unlimited seize(limited by available memory),so rarl need to worry about overflow.\n",
    "  3. Avoid ambiguous meaning: For example,o(captital letter O) or I(lowercase l) can be confused numbers.\n",
    "\n",
    "\n",
    "  1.2 floats\n",
    "\n",
    "  Defination: Float represents real numbers that include a fractional component.\n",
    "  \n",
    "  Examples: 3.14159,-0.232,1.5e2 (which equals to 150.0) \n",
    "\n",
    "  \n",
    "\n",
    "\n",
    "\n",
    "\n",
    "\n",
    "\n",
    "\n",
    "\n",
    "\n",
    "\n",
    "\n",
    "\n"
   ]
  },
  {
   "cell_type": "code",
   "execution_count": 2,
   "id": "b34fcdb0",
   "metadata": {},
   "outputs": [
    {
     "name": "stdout",
     "output_type": "stream",
     "text": [
      "pi: 3.141549 <class 'float'>\n",
      "small_float: -0.001 <class 'float'>\n",
      "exp_float: 150.0 <class 'float'>\n"
     ]
    }
   ],
   "source": [
    "# Examples of floats\n",
    "pi = 3.141549\n",
    "small_float = -0.001\n",
    "exp_float = 1.5e2 # 150.0 in decimal\n",
    "\n",
    "print(\"pi:\", pi, type(pi))\n",
    "print(\"small_float:\", small_float, type(small_float))\n",
    "print(\"exp_float:\", exp_float, type(exp_float))"
   ]
  },
  {
   "cell_type": "markdown",
   "id": "c903ce2e",
   "metadata": {},
   "source": [
    "2. Strings\n",
    "\n",
    "  Defination: A string is a sequence of characters. In python,strings can be enclosed in single quates('...') double quates(\"....\") or triple quates('''...''' or \"\"\"...\"\"\") for multiple line strings.\n",
    "\n",
    "  Examples: \"Hello World\",'Python is great!',\"\"\"Triple quated strings can span multiple lines\"\"\".\n",
    "  "
   ]
  },
  {
   "cell_type": "code",
   "execution_count": 3,
   "id": "a097c4dd",
   "metadata": {},
   "outputs": [
    {
     "name": "stdout",
     "output_type": "stream",
     "text": [
      "Hello, Python! <class 'str'>\n",
      "I can use a single quoates too. <class 'str'>\n",
      "This is a\n",
      "multiline string. <class 'str'>\n"
     ]
    }
   ],
   "source": [
    "# Examples of Strings\n",
    "greeting = \"Hello, Python!\"\n",
    "quate = 'I can use a single quoates too.'\n",
    "multiline_text = \"\"\"This is a\n",
    "multiline string.\"\"\"\n",
    "\n",
    "print(greeting, type(greeting))\n",
    "print(quate, type(quate))\n",
    "print(multiline_text, type(multiline_text))"
   ]
  },
  {
   "cell_type": "markdown",
   "id": "8bf68eff",
   "metadata": {},
   "source": [
    "## String Operations"
   ]
  },
  {
   "cell_type": "code",
   "execution_count": null,
   "id": "3e4e1cc7",
   "metadata": {},
   "outputs": [
    {
     "name": "stdout",
     "output_type": "stream",
     "text": [
      "Full Name: John Doe\n",
      "Repetition: HaHaHa\n",
      "First Char: H\n",
      "Substring: Hello\n"
     ]
    }
   ],
   "source": [
    "# concatenation\n",
    "first_name = \"John\"\n",
    "last_name = \"Doe\"\n",
    "full_name = first_name + \" \" +last_name    # \"John Doe\"\n",
    "\n",
    "#Repetition\n",
    "ha_3_times = \"Ha\" *3      #HaHaHaHa\n",
    "\n",
    "#indexing and slicing\n",
    "first_char = greeting[0,3]   #'H'\n",
    "substring = greeting[0:5]   #'Hello'\n",
    "\n",
    "\n",
    "print(\"Full Name:\", full_name)\n",
    "print(\"Repetition:\", ha_3_times)\n",
    "print(\"First Char:\", first_char)\n",
    "print(\"Substring:\", substring)\n",
    "\n",
    "\n"
   ]
  }
 ],
 "metadata": {
  "kernelspec": {
   "display_name": "python_eda",
   "language": "python",
   "name": "python3"
  },
  "language_info": {
   "codemirror_mode": {
    "name": "ipython",
    "version": 3
   },
   "file_extension": ".py",
   "mimetype": "text/x-python",
   "name": "python",
   "nbconvert_exporter": "python",
   "pygments_lexer": "ipython3",
   "version": "3.11.0"
  }
 },
 "nbformat": 4,
 "nbformat_minor": 5
}
