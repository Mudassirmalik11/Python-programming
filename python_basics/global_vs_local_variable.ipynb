{
 "cells": [
  {
   "cell_type": "markdown",
   "id": "5f8c2f36",
   "metadata": {},
   "source": [
    "# 1. Local vs. Global variables\n"
   ]
  },
  {
   "cell_type": "code",
   "execution_count": 9,
   "id": "fa695c63",
   "metadata": {},
   "outputs": [
    {
     "name": "stdout",
     "output_type": "stream",
     "text": [
      "Isnide function : x = global, y = 5\n",
      "Outside function : x = global\n"
     ]
    }
   ],
   "source": [
    "k = 10  # global variables\n",
    "def my_function():\n",
    "    y = 5  # local variable\n",
    "    print(f\"Isnide function : x = {x}, y = {y}\")\n",
    "\n",
    "my_function()\n",
    "print (f\"Outside function : x = {x}\")  # y cannot be accessed here    "
   ]
  },
  {
   "cell_type": "markdown",
   "id": "a76fe718",
   "metadata": {},
   "source": [
    "# 2. How python handles varaible Scope?\n",
    "\n",
    "1. __Local(L)-__ Variable declared inside a function.\n",
    "2. __Enclosing(E)-__ Variables in enclosing function (nested functions).\n",
    "3. __Global(G)-__ Variables declared at the top level of a script.\n",
    "4. __Built-in(B)-__ Predefined variables in python(e.g.,print,len)\n",
    " \n",
    "__Example:LEGB Rule in Action__ "
   ]
  },
  {
   "cell_type": "code",
   "execution_count": 10,
   "id": "f5a32ef4",
   "metadata": {},
   "outputs": [
    {
     "name": "stdout",
     "output_type": "stream",
     "text": [
      "inside inner function: local\n",
      "Inside outer function: enclosing\n",
      "Outside all functions: global\n"
     ]
    }
   ],
   "source": [
    "x = 'global'   # Global variable\n",
    "\n",
    "def outer_function():\n",
    "    x = 'enclosing'   # Enclosing variable\n",
    "    def inner_function():\n",
    "        x = 'local'  # local variable\n",
    "        print('inside inner function:', x) # prints local variable\n",
    "    inner_function()\n",
    "    print(\"Inside outer function:\", x)  # prints enclosing variable\n",
    "outer_function()\n",
    "print('Outside all functions:', x)   # prints the global variable        "
   ]
  },
  {
   "cell_type": "markdown",
   "id": "7fc53965",
   "metadata": {},
   "source": [
    "# Modifying Global variables inside functions\n",
    "\n",
    "To modify a __Global variable inside a function__,we must use the __global__ keyword.\n",
    "\n",
    "## Example : using global keyword"
   ]
  },
  {
   "cell_type": "code",
   "execution_count": 1,
   "id": "9d484831",
   "metadata": {},
   "outputs": [
    {
     "name": "stdout",
     "output_type": "stream",
     "text": [
      "Updated counter: 1\n"
     ]
    }
   ],
   "source": [
    "counter = 0     # global variable\n",
    "\n",
    "def increment():\n",
    "    global counter    # Explicitly modifying global variable\n",
    "    counter += 1\n",
    "\n",
    "increment()\n",
    "print(\"Updated counter:\",counter)    "
   ]
  },
  {
   "cell_type": "markdown",
   "id": "ddd914f2",
   "metadata": {},
   "source": [
    "# 4. Best practices for using global and local variable\n",
    "\n",
    "1. prefer __local variable__ whenever possible to __avoid unintended side effects.\n",
    "2. minimize the use of __global__ variable to keep code modular and maintainable.\n",
    "3. Use the __function arguments__ to pass value instead of relying on global state.\n",
    "\n",
    "# 5. Understanding is (Identity comparison)\n",
    "\n",
    "The __is__ operator __checks if two variable refers to the same object in memory.__\n",
    "\n",
    "### Example : is checking object identity"
   ]
  },
  {
   "cell_type": "code",
   "execution_count": 3,
   "id": "e9fb13cb",
   "metadata": {},
   "outputs": [
    {
     "name": "stdout",
     "output_type": "stream",
     "text": [
      "True\n",
      "False\n"
     ]
    }
   ],
   "source": [
    "a = [1,2,3]\n",
    "b = a  #  both point to the same object\n",
    "c = [1,2,3]   # different object with same values\n",
    "\n",
    "print(a is b)   # Output: True\n",
    "print(a is c)   # Output: False"
   ]
  },
  {
   "cell_type": "markdown",
   "id": "bcb8e081",
   "metadata": {},
   "source": [
    "# 6. Understanding __==__ (value comparison)\n",
    "\n",
    "The __==__  operator __compares the values__ of two objects.\n",
    "\n",
    "### Example: __== Checking values equality__"
   ]
  },
  {
   "cell_type": "code",
   "execution_count": 4,
   "id": "d9165997",
   "metadata": {},
   "outputs": [
    {
     "name": "stdout",
     "output_type": "stream",
     "text": [
      "True\n",
      "False\n"
     ]
    }
   ],
   "source": [
    "a = [1,2,3]\n",
    "b = [1,2,3]\n",
    "\n",
    "c = a\n",
    "print(a == b)    # Output : True(same values)\n",
    "print( a is b)   # output: false (different object in memory)"
   ]
  },
  {
   "cell_type": "markdown",
   "id": "2be0141f",
   "metadata": {},
   "source": [
    "# 7.Key difference between <mark>is</mark> and <mark>==</mark>\n",
    "\n",
    "is --> checks if two objects occupy the same memory location\n",
    "== ---> checks if two objects have the same value\n",
    "\n",
    "# 8. Real-world scenarios where <mark>is</mark> and <mark>==</mark> matter\n",
    "\n",
    "### Scenario 1: Camparing immutable objects(is works for small integers and strings)"
   ]
  },
  {
   "cell_type": "code",
   "execution_count": 2,
   "id": "8555cc04",
   "metadata": {},
   "outputs": [
    {
     "name": "stdout",
     "output_type": "stream",
     "text": [
      "False\n",
      "True\n",
      "True\n"
     ]
    }
   ],
   "source": [
    "a = 1000\n",
    "b = 1000\n",
    "print(a is b)   # Output : False (different memory locations)\n",
    "\n",
    "a = 255\n",
    "b = 255\n",
    "print(a is b)   # output : True (same memory location)\n",
    "# Reason: python caches small integers (from -5 to 256)\n",
    "\n",
    "c = 10\n",
    "d = 10\n",
    "print(c is d) # output: True (python caches small integers)"
   ]
  },
  {
   "cell_type": "markdown",
   "id": "dabcf3e6",
   "metadata": {},
   "source": [
    "# Scenario 2: Checking if a variable is <mark>None</mark>(<mark>is</mark>is preferred) "
   ]
  },
  {
   "cell_type": "code",
   "execution_count": 3,
   "id": "93b076a6",
   "metadata": {},
   "outputs": [
    {
     "name": "stdout",
     "output_type": "stream",
     "text": [
      "x is NOne\n"
     ]
    }
   ],
   "source": [
    "x = None\n",
    "if x is None:\n",
    "    print(\"x is NOne\")   # preffered way to check for None"
   ]
  }
 ],
 "metadata": {
  "kernelspec": {
   "display_name": "python_eda",
   "language": "python",
   "name": "python3"
  },
  "language_info": {
   "codemirror_mode": {
    "name": "ipython",
    "version": 3
   },
   "file_extension": ".py",
   "mimetype": "text/x-python",
   "name": "python",
   "nbconvert_exporter": "python",
   "pygments_lexer": "ipython3",
   "version": "3.11.0"
  }
 },
 "nbformat": 4,
 "nbformat_minor": 5
}
