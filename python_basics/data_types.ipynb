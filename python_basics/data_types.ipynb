{
 "cells": [
  {
   "cell_type": "markdown",
   "id": "87cc3655",
   "metadata": {},
   "source": [
    "from IPython.core.display import HTML\n",
    "\n",
    "HTML(\"\"\"\n",
    "<style>\n",
    "/* Remove background from inline code */\n",
    ".rendered_html code {\n",
    "    background-color: transparent !important;\n",
    "    color: inherit;\n",
    "}\n",
    "</style>\n",
    "\"\"\")\n"
   ]
  },
  {
   "cell_type": "markdown",
   "id": "11881577",
   "metadata": {},
   "source": [
    "# Python Data Types for Beginners \n",
    "\n",
    "In Python, every piece of data is and object. Understanding Python's built-in data types is fundemental for writing efficient , readable, and bug free program.Python's core data types and show you best practices on hot to work with them.\n",
    "\n",
    "1.Numeric Types \n",
    "\n",
    "Python has three main numeric data types:\n",
    "\n",
    "    1. Integer (int)- Whole numbers(e.g.,0,1,-5,999).\n",
    "\n",
    "    2. Float (float) - Numbers decimal points or in exponential form (e.g., 3.14 , 2.7e3).\n",
    "\n",
    "1.1 Integers\n",
    "# Defination : Integers are whole Numbers without a fractional component\n",
    "Example: -10,0,43.\n"
   ]
  },
  {
   "cell_type": "code",
   "execution_count": 5,
   "id": "7117b86e",
   "metadata": {},
   "outputs": [
    {
     "name": "stdout",
     "output_type": "stream",
     "text": [
      "num: 42 <class 'int'>\n",
      "num:2 -7 <class 'int'>\n",
      "num3: 0 <class 'int'>\n"
     ]
    }
   ],
   "source": [
    "# Examples of Integers\n",
    "num1 = 42\n",
    "num2 = -7\n",
    "num3 = 0\n",
    "\n",
    "print(\"num:\", num1, type(num1))\n",
    "print(\"num:2\", num2, type(num2))\n",
    "print(\"num3:\", num3, type(num3))"
   ]
  },
  {
   "cell_type": "markdown",
   "id": "63a29f95",
   "metadata": {},
   "source": [
    "# Best Practices \n",
    "\n",
    "  1. descriptive variable names: instead of x or y, use user_age or items-count.\n",
    "  2. Handle potential: In Python, 3 integes are of unlimited seize(limited by available memory),so rarl need to worry about overflow.\n",
    "  3. Avoid ambiguous meaning: For example,o(captital letter O) or I(lowercase l) can be confused numbers.\n",
    "\n",
    "\n",
    "  1.2 floats\n",
    "\n",
    "  Defination: Float represents real numbers that include a fractional component.\n",
    "  \n",
    "  Examples: 3.14159,-0.232,1.5e2 (which equals to 150.0) \n",
    "\n",
    "  \n",
    "\n",
    "\n",
    "\n",
    "\n",
    "\n",
    "\n",
    "\n",
    "\n",
    "\n",
    "\n",
    "\n",
    "\n"
   ]
  },
  {
   "cell_type": "code",
   "execution_count": 6,
   "id": "b34fcdb0",
   "metadata": {},
   "outputs": [
    {
     "name": "stdout",
     "output_type": "stream",
     "text": [
      "pi: 3.141549 <class 'float'>\n",
      "small_float: -0.001 <class 'float'>\n",
      "exp_float: 150.0 <class 'float'>\n"
     ]
    }
   ],
   "source": [
    "# Examples of floats\n",
    "pi = 3.141549\n",
    "small_float = -0.001\n",
    "exp_float = 1.5e2 # 150.0 in decimal\n",
    "\n",
    "print(\"pi:\", pi, type(pi))\n",
    "print(\"small_float:\", small_float, type(small_float))\n",
    "print(\"exp_float:\", exp_float, type(exp_float))"
   ]
  },
  {
   "cell_type": "markdown",
   "id": "c903ce2e",
   "metadata": {},
   "source": [
    "2. Strings\n",
    "\n",
    "  Defination: A string is a sequence of characters. In python,strings can be enclosed in single quates('...') double quates(\"....\") or triple quates('''...''' or \"\"\"...\"\"\") for multiple line strings.\n",
    "\n",
    "  Examples: \"Hello World\",'Python is great!',\"\"\"Triple quated strings can span multiple lines\"\"\".\n",
    "  "
   ]
  },
  {
   "cell_type": "code",
   "execution_count": 7,
   "id": "a097c4dd",
   "metadata": {},
   "outputs": [
    {
     "name": "stdout",
     "output_type": "stream",
     "text": [
      "Hello, Python! <class 'str'>\n",
      "I can use a single quoates too. <class 'str'>\n",
      "This is a\n",
      "multiline string. <class 'str'>\n"
     ]
    }
   ],
   "source": [
    "# Examples of Strings\n",
    "greeting = \"Hello, Python!\"\n",
    "quate = 'I can use a single quoates too.'\n",
    "multiline_text = \"\"\"This is a\n",
    "multiline string.\"\"\"\n",
    "\n",
    "print(greeting, type(greeting))\n",
    "print(quate, type(quate))\n",
    "print(multiline_text, type(multiline_text))"
   ]
  },
  {
   "cell_type": "markdown",
   "id": "8bf68eff",
   "metadata": {},
   "source": [
    "## String Operations"
   ]
  },
  {
   "cell_type": "code",
   "execution_count": 8,
   "id": "3e4e1cc7",
   "metadata": {},
   "outputs": [
    {
     "name": "stdout",
     "output_type": "stream",
     "text": [
      "Full Name: John Doe\n",
      "Repetition: HaHaHa\n",
      "First Char: H\n",
      "Substring: Hello\n"
     ]
    }
   ],
   "source": [
    "# concatenation\n",
    "first_name = \"John\"\n",
    "last_name = \"Doe\"\n",
    "full_name = first_name + \" \" +last_name    # \"John Doe\"\n",
    "\n",
    "#Repetition\n",
    "ha_3_times = \"Ha\" *3      #HaHaHaHa\n",
    "\n",
    "#indexing and slicing\n",
    "first_char = greeting[0]   #'H'\n",
    "substring = greeting[0:5]   #'Hello'\n",
    "\n",
    "\n",
    "print(\"Full Name:\", full_name)\n",
    "print(\"Repetition:\", ha_3_times)\n",
    "print(\"First Char:\", first_char)\n",
    "print(\"Substring:\", substring)\n",
    "\n",
    "\n"
   ]
  },
  {
   "cell_type": "markdown",
   "id": "d0ea6a57",
   "metadata": {},
   "source": [
    "Best practices:\n",
    "\n",
    "   1. Use f-strings (formated strings) for readability \n",
    "   "
   ]
  },
  {
   "cell_type": "code",
   "execution_count": 9,
   "id": "2806b6b3",
   "metadata": {},
   "outputs": [
    {
     "name": "stdout",
     "output_type": "stream",
     "text": [
      "My age is 57\n"
     ]
    }
   ],
   "source": [
    "age = 57\n",
    "print(f\"My age is {age}\")"
   ]
  },
  {
   "cell_type": "markdown",
   "id": "597a975a",
   "metadata": {},
   "source": [
    "3. Boolean type\n",
    "\n",
    "Defination: Booleans are True or False values. Use: Typically used in condition checks ,loops or logical evaluations."
   ]
  },
  {
   "cell_type": "code",
   "execution_count": 10,
   "id": "b86199cd",
   "metadata": {},
   "outputs": [
    {
     "name": "stdout",
     "output_type": "stream",
     "text": [
      "is python easy: True <class 'bool'>\n",
      "Likes coffee: False <class 'bool'>\n"
     ]
    }
   ],
   "source": [
    "is_python_easy = True\n",
    "likes_coffe = False\n",
    "\n",
    "print(\"is python easy:\",is_python_easy,type(is_python_easy))\n",
    "print(\"Likes coffee:\",likes_coffe,type(likes_coffe))\n"
   ]
  },
  {
   "cell_type": "markdown",
   "id": "91ab36fb",
   "metadata": {},
   "source": [
    "Best practices:\n",
    "\n",
    "   1. Use descriptive names: Instead of flag or status ,use_active or has_errors.\n",
    "   2. Avoid comparing booleans to True or False directly\n",
    "   3. Keep booleans purely boolean: Resist the temptation to mix them with numbers. Although True behaves like 1 annd False like 0,it makes the code less clear."
   ]
  },
  {
   "cell_type": "code",
   "execution_count": 11,
   "id": "ea5a07bb",
   "metadata": {},
   "outputs": [
    {
     "name": "stdout",
     "output_type": "stream",
     "text": [
      "yes, python is easy!\n"
     ]
    }
   ],
   "source": [
    "# instead of: if  is_python_easy == True\n",
    "# Do this:\n",
    "if is_python_easy:\n",
    "    print(\"yes, python is easy!\")"
   ]
  },
  {
   "cell_type": "markdown",
   "id": "b6fb8d7a",
   "metadata": {},
   "source": [
    "4. NoneType\n",
    "\n",
    "Defination: None represents the absence of a value. Use:Often used as a placeholder for optional or missing data."
   ]
  },
  {
   "cell_type": "code",
   "execution_count": 12,
   "id": "79398468",
   "metadata": {},
   "outputs": [
    {
     "name": "stdout",
     "output_type": "stream",
     "text": [
      "nothing_here: None <class 'NoneType'>\n"
     ]
    }
   ],
   "source": [
    "nothing_here = None\n",
    "print(\"nothing_here:\",nothing_here,type(nothing_here))"
   ]
  },
  {
   "cell_type": "markdown",
   "id": "3b1b6e8e",
   "metadata": {},
   "source": [
    "Best practices:\n",
    "  \n",
    "   1. Check for None with is None rather than == None\n",
    "   "
   ]
  },
  {
   "cell_type": "code",
   "execution_count": 13,
   "id": "035d112a",
   "metadata": {},
   "outputs": [
    {
     "name": "stdout",
     "output_type": "stream",
     "text": [
      "This variable has no Value.\n"
     ]
    }
   ],
   "source": [
    "if nothing_here is None:\n",
    "    print(\"This variable has no Value.\")"
   ]
  },
  {
   "cell_type": "markdown",
   "id": "98c2bbdf",
   "metadata": {},
   "source": [
    "5. Collections Overview \n",
    "\n",
    "While primitive data types (like int,float,bool and str) hold single values,python's built-in collections let you group multipe items in \n",
    "flexible ways.The four built-in collections are:\n",
    "\n",
    "  1. List - An ordered, mutable sequence.\n",
    "  2. Tuple- An ordered ,immutable sequence.\n",
    "  3. Dictionary-An unordered set of key-value pairs.\n",
    "  4. Set-An unordered collection of unique elements.\n",
    "\n",
    "  practice of each\n",
    "\n",
    "  5.1 List\n",
    "\n",
    "  Defination & Characteristics\n",
    "\n",
    "  1. A list is created using square brackets [] or the list() constructor.\n",
    "\n",
    "  2. it is oredered, meaning elements retain the order in which they're inserted.\n",
    "  \n",
    "   3.it is mutable: You can add,remove, or modify elements after creation.\n",
    "       "
   ]
  },
  {
   "cell_type": "code",
   "execution_count": 14,
   "id": "156db692",
   "metadata": {},
   "outputs": [
    {
     "name": "stdout",
     "output_type": "stream",
     "text": [
      "empty list: []\n",
      "Numbers list: [10, 20, 30, 40]\n",
      "Mixed list: ['Hello', 3.14, True]\n",
      "first number: 10\n",
      "last num: 40\n"
     ]
    }
   ],
   "source": [
    "# creating lists in defferent ways\n",
    "empty_list = []\n",
    "numbers = [10,20,30,40,]\n",
    "mixed_list = [\"Hello\",3.14,True]\n",
    "\n",
    "print(\"empty list:\",empty_list)\n",
    "print(\"Numbers list:\",numbers)\n",
    "print(\"Mixed list:\",mixed_list)\n",
    "\n",
    "# Accessing elements by idex\n",
    "\n",
    "first_num = numbers[0] # 10\n",
    "last_num = numbers[-1] # 40\n",
    "print(\"first number:\",first_num)\n",
    "print(\"last num:\",last_num)"
   ]
  },
  {
   "cell_type": "markdown",
   "id": "491e3b3b",
   "metadata": {},
   "source": [
    "Adding, Removing, and Modifying Elements"
   ]
  },
  {
   "cell_type": "code",
   "execution_count": 15,
   "id": "4d067a28",
   "metadata": {},
   "outputs": [
    {
     "name": "stdout",
     "output_type": "stream",
     "text": [
      "append 50: [10, 20, 30, 40, 50]\n",
      "insert 15 at index 2: [10, 20, 15, 30, 40, 50]\n",
      "remove the last items 50 by pop(): [10, 20, 15, 30, 40]\n",
      "removing 20 by remove(): [10, 15, 30, 40]\n",
      "Modified numbers list: [10, 25, 30, 40]\n",
      "Removed item: 50\n"
     ]
    }
   ],
   "source": [
    "# Adding elements\n",
    "numbers.append(50)      # Adds 50 at the end\n",
    "print(\"append 50:\", numbers)\n",
    "numbers.insert(2,15)    # Inserts 15 at index 2\n",
    "print(\"insert 15 at index 2:\",numbers)\n",
    "\n",
    "\n",
    "# Removing elements\n",
    "removed_item = numbers.pop()    # Removes and returns the last item (50)\n",
    "print(\"remove the last items 50 by pop():\",numbers)\n",
    "\n",
    "numbers.remove(20)              # Removes the first occurrence of 20\n",
    "print(\"removing 20 by remove():\", numbers)\n",
    "\n",
    "\n",
    "# Modifying an elements\n",
    "numbers[1] = 25                 # changes the elements at index 1 to 25\n",
    "\n",
    "print(\"Modified numbers list:\",numbers)\n",
    "print(\"Removed item:\",removed_item)"
   ]
  },
  {
   "cell_type": "markdown",
   "id": "3d5001de",
   "metadata": {},
   "source": [
    "   5.2 Tuple\n",
    "\n",
    "   Defination & Charateristics\n",
    "   \n",
    "   1.A touple is created using parentheses () or the tuple() constructor.\n",
    "\n",
    "   2.it is ordered, similar to a list.\n",
    "   \n",
    "   3.it is immutable: You cannot add,remove,or change elements once defined. Creation & Basic Operations"
   ]
  },
  {
   "cell_type": "code",
   "execution_count": 16,
   "id": "c643aeee",
   "metadata": {},
   "outputs": [
    {
     "name": "stdout",
     "output_type": "stream",
     "text": [
      "Empty tupleL: ()\n",
      "single element tuple: (42,)\n",
      "Numbers tuple: (10, 20, 30)\n",
      "Mixed tupleL: ('Alice', 25, True)\n",
      "First item: 10\n",
      "sliced sub-tuple: (20, 30)\n"
     ]
    }
   ],
   "source": [
    "# Creating tuples\n",
    "empty_tuple = ()\n",
    "single_element_tuple = (42,)\n",
    "numbers_tuple = (10,20,30)\n",
    "mixed_tuple =(\"Alice\",25,True)\n",
    "\n",
    "print(\"Empty tupleL:\",empty_tuple)\n",
    "print(\"single element tuple:\",single_element_tuple)\n",
    "print(\"Numbers tuple:\",numbers_tuple)\n",
    "print(\"Mixed tupleL:\",mixed_tuple)\n",
    "\n",
    "# Accessing elements by index\n",
    "first_item = numbers_tuple[0]   # 10\n",
    "print(\"First item:\",first_item)\n",
    "\n",
    "# Slicing works similarly to lists\n",
    "sub_tuple = numbers_tuple[1:]   # (20,30)\n",
    "print(\"sliced sub-tuple:\",sub_tuple)"
   ]
  },
  {
   "cell_type": "markdown",
   "id": "64b1df7e",
   "metadata": {},
   "source": [
    "Immutability"
   ]
  },
  {
   "cell_type": "code",
   "execution_count": 17,
   "id": "03406bad",
   "metadata": {},
   "outputs": [
    {
     "name": "stdout",
     "output_type": "stream",
     "text": [
      "error: 'tuple' object does not support item assignment\n"
     ]
    }
   ],
   "source": [
    "# Trying to modify a tuple will raise an error\n",
    "try:\n",
    "    numbers_tuple[1] = 99   # This is not allowed\n",
    "except TypeError as e:\n",
    "    print(\"error:\",e)    "
   ]
  },
  {
   "cell_type": "code",
   "execution_count": 19,
   "id": "62a3ccee",
   "metadata": {},
   "outputs": [
    {
     "name": "stdout",
     "output_type": "stream",
     "text": [
      "Name: Bob\n",
      "Age: 30\n",
      "Job: Engineer\n"
     ]
    }
   ],
   "source": [
    "# Unpacking a tuple into separte variables\n",
    "person_tuple = (\"Bob\",30,\"Engineer\")\n",
    "name,age,job =person_tuple  # Unpack in order\n",
    "\n",
    "print(\"Name:\",name)\n",
    "print(\"Age:\",age)\n",
    "print(\"Job:\",job)"
   ]
  },
  {
   "cell_type": "markdown",
   "id": "161a274e",
   "metadata": {},
   "source": [
    "Best practices for Tuples\n",
    "  \n",
    "   1. Use tuples for fixed collections of items that don't change,like coordinates or constant data.\n",
    "   2. Leverage tuple unpacking to write cleaner code when returning multiple values from a function.\n",
    "   3. Don't modify: if you need to frequently alter the collection,consider a list.\n",
    "\n",
    "   5.3 Dictionary\n",
    "\n",
    "   Defination & Characteristics\n",
    "     \n",
    "   1. A dictionary is created using curly braces {} with key-values pairs,or using dict().\n",
    "   2. It is unordered .\n",
    "   3. Keys must be unique and immutable(e.g, strings,numbers,tuples).Values can be anything.14.t is mutable: you can add,remove or change\n",
    "    key-value pairs.\n",
    "\n",
    "   Creation and Basic Operation   "
   ]
  },
  {
   "cell_type": "code",
   "execution_count": 27,
   "id": "46fc8783",
   "metadata": {},
   "outputs": [
    {
     "name": "stdout",
     "output_type": "stream",
     "text": [
      "Empty dict: {}\n",
      "Person dict: {'name': 'Alice', 'age': 30}\n",
      "Another dict: {'city': 'London', 'country': 'UK'}\n",
      "Name: Alice\n",
      "Age: 30\n"
     ]
    }
   ],
   "source": [
    "# Creating dictionaries\n",
    "empty_dict = {}\n",
    "person_dict = {\"name\":\"Alice\",\"age\":30}\n",
    "another_dict = dict(city=\"London\",country=\"UK\")\n",
    "\n",
    "print(\"Empty dict:\",empty_dict)\n",
    "print(\"Person dict:\",person_dict)\n",
    "print(\"Another dict:\",another_dict)\n",
    "\n",
    "# Accessing values by keys\n",
    "print(\"Name:\",person_dict[\"name\"])\n",
    "print(\"Age:\",person_dict.get(\"age\"))   #.get() is sager, return None if key isn't found"
   ]
  },
  {
   "cell_type": "code",
   "execution_count": 28,
   "id": "dc6ec2a5",
   "metadata": {},
   "outputs": [
    {
     "name": "stdout",
     "output_type": "stream",
     "text": [
      "Removed age: 30\n",
      "Name is present.\n",
      "{'name': 'Alice', 'city': 'New York'}\n"
     ]
    }
   ],
   "source": [
    "# Adding or updating a key-value pair\n",
    "person_dict[\"city\"] = \"New York\"  # Adds 'city' if it doesn't exist, else updates it\n",
    "\n",
    "# Removing a key-value pair\n",
    "removed_vlue = person_dict.pop(\"age\") # remove 'age' and returns its value\n",
    "print(\"Removed age:\",removed_vlue)\n",
    "\n",
    "# Checking if a key exists\n",
    "if \"name\" in person_dict:\n",
    "    print(\"Name is present.\")\n",
    "print(person_dict)   "
   ]
  },
  {
   "cell_type": "code",
   "execution_count": 29,
   "id": "8c882661",
   "metadata": {},
   "outputs": [
    {
     "name": "stdout",
     "output_type": "stream",
     "text": [
      "Keys: dict_keys(['name', 'city'])\n",
      "Values: dict_values(['Alice', 'New York'])\n",
      "Items: dict_items([('name', 'Alice'), ('city', 'New York')])\n"
     ]
    }
   ],
   "source": [
    "print(\"Keys:\",person_dict.keys())\n",
    "print(\"Values:\",person_dict.values())\n",
    "print(\"Items:\",person_dict.items())\n"
   ]
  },
  {
   "cell_type": "markdown",
   "id": "1d43336e",
   "metadata": {},
   "source": [
    "Best Practices for Dictionaries\n",
    "\n",
    "  1. Use dictionaries when you need fast lookups by key.\n",
    "  2. Keys should be immutable and descriptive (e.g.,Strings that convey meaning).\n",
    "  3. Use.get(key,default) to avoid keError when a key might not exist.\n",
    "  4. Dictionaries are great for configuration data or bunding related data attributes without creating a custom class.\n",
    "\n",
    "5.4 Set\n",
    "\n",
    "Defination & Characteristics\n",
    "\n",
    "   1. A set is created using curly braces {} or the set() construcor.\n",
    "   2. It is unordered and doesn't allow duplicate elements.\n",
    "   3. it is mutable: You can add or remove elements.\n",
    "\n",
    "Creation & Basic Operation   "
   ]
  },
  {
   "cell_type": "code",
   "execution_count": 30,
   "id": "3f6431c4",
   "metadata": {},
   "outputs": [
    {
     "name": "stdout",
     "output_type": "stream",
     "text": [
      "empty Set: set()\n",
      "Numbers set: {1, 2, 3, 4}\n",
      "Mixed set: {42, (1, 2), 'apple'}\n"
     ]
    }
   ],
   "source": [
    "# Creating sets\n",
    "empty_set = set()\n",
    "numbers_set = {1,2,3,4,2}   # Duplicates are removed automatically\n",
    "mix_set = {\"apple\",42,(1,2)}     # you can stor immutable types like tuples\n",
    "\n",
    "print(\"empty Set:\",empty_set)\n",
    "print(\"Numbers set:\",numbers_set)\n",
    "print(\"Mixed set:\",mix_set)"
   ]
  },
  {
   "cell_type": "markdown",
   "id": "94e499ae",
   "metadata": {},
   "source": [
    "Adding and Removing elements\n"
   ]
  },
  {
   "cell_type": "code",
   "execution_count": 31,
   "id": "6caa9abf",
   "metadata": {},
   "outputs": [
    {
     "name": "stdout",
     "output_type": "stream",
     "text": [
      "Updated set {1, 3, 4}\n"
     ]
    }
   ],
   "source": [
    "numbers_set.add(4)        # Adds 4 to the set\n",
    "numbers_set.discard(2)    # Removes 2 if it exists, no error if it doesn't \n",
    "# numbers_set.remove(2)   # Removes 2 but raises a keyError if it doesn't exists\n",
    "print(\"Updated set\",numbers_set)"
   ]
  },
  {
   "cell_type": "markdown",
   "id": "9ee2a503",
   "metadata": {},
   "source": [
    "Set Operations\n",
    "\n",
    "Sets support matematical and operations like union ,intersection,differnces,etc."
   ]
  },
  {
   "cell_type": "code",
   "execution_count": 32,
   "id": "f8712a0f",
   "metadata": {},
   "outputs": [
    {
     "name": "stdout",
     "output_type": "stream",
     "text": [
      "Union: {1, 2, 3, 4, 5}\n",
      "Intersection: {3}\n",
      "Difference: {1, 2}\n",
      "Symmetic Difference: {1, 2, 4, 5}\n"
     ]
    }
   ],
   "source": [
    "set_a = {1,2,3}\n",
    "set_b = {3,4,5}\n",
    "\n",
    "# Union: all elements from both sets\n",
    "print(\"Union:\",set_a.union(set_b))   # or set_a | set_b\n",
    "\n",
    "# Intersection: element common to both\n",
    "print(\"Intersection:\",set_a.intersection(set_b))  #or set_a & set_b\n",
    "\n",
    "# Difference: elements in set_a  but no in set_b\n",
    "print(\"Difference:\",set_a.difference(set_b))  # or set_a - set_b\n",
    "\n",
    "# symmetric differnce: elements either set_a or set_b but not both\n",
    "print(\"Symmetic Difference:\",set_a.symmetric_difference(set_b))  # or set_a set_b"
   ]
  }
 ],
 "metadata": {
  "kernelspec": {
   "display_name": "python_eda",
   "language": "python",
   "name": "python3"
  },
  "language_info": {
   "codemirror_mode": {
    "name": "ipython",
    "version": 3
   },
   "file_extension": ".py",
   "mimetype": "text/x-python",
   "name": "python",
   "nbconvert_exporter": "python",
   "pygments_lexer": "ipython3",
   "version": "3.11.0"
  }
 },
 "nbformat": 4,
 "nbformat_minor": 5
}
