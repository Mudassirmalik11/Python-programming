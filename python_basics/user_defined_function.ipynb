{
 "cells": [
  {
   "cell_type": "markdown",
   "id": "7b1e2660",
   "metadata": {},
   "source": [
    "# Defining a function in python\n",
    "\n",
    "A function is a __block of reusable code__ that performs a specific task. Instead of writing the same instructions repeatdly, we define once and call it whenever needed.\n",
    "\n",
    "# key components of a function definition\n",
    "\n",
    "1. __def__ - a keyword that marks the beginning of the function.\n",
    "2. __function_name__ - a unique name for identifying the function.\n",
    "3. __parameters(optional)__ - values paassed to the function for processing.\n",
    "4. __:(colon)__ - marks the end of the function header.\n",
    "5. __function body__ - contains the __logic (instructions)__ that function executes.\n",
    "6. __'''docstring'''__ - used to describe what the function does.\n",
    "7. __retrun(optional)__ - returns a result to the caller."
   ]
  },
  {
   "cell_type": "code",
   "execution_count": 5,
   "id": "10e62ef2",
   "metadata": {},
   "outputs": [
    {
     "name": "stdout",
     "output_type": "stream",
     "text": [
      "Number 1: 2\n",
      "Number 2: 4\n",
      "Result: 6\n"
     ]
    }
   ],
   "source": [
    "# Defining a function named \"add\" that takes two numbers as parameters\n",
    "def add(num1,num2):\n",
    "    \"\"\"This function takes two  numbers, adds them ,and returns the sum.\"\"\"\n",
    "    print(\"Number 1:\",num1)   # printing first number\n",
    "    print(\"Number 2:\",num2)    # printing second number\n",
    "    addition = num1 + num2     # adding numbers\n",
    "    return addition     # retruning the result\n",
    "\n",
    "# calling a function and storing the result\n",
    "res = add(2,4)\n",
    "print(\"Result:\",res) # Expected ouput : 6    "
   ]
  },
  {
   "cell_type": "code",
   "execution_count": 6,
   "id": "144236d1",
   "metadata": {},
   "outputs": [
    {
     "name": "stdout",
     "output_type": "stream",
     "text": [
      "Welcome to python for Artificial Intelligence\n"
     ]
    }
   ],
   "source": [
    "# Example : define and call a greeting function.\n",
    "\n",
    "# Define a funtion named 'greet' to print a welcome message\n",
    "def greet():\n",
    "    print(\"Welcome to python for Artificial Intelligence\")\n",
    "\n",
    "# call the greet function\n",
    "greet()  # expected output: Welcome to python for Artificial Intelligence   \n",
    "    "
   ]
  },
  {
   "cell_type": "markdown",
   "id": "6611889a",
   "metadata": {},
   "source": [
    "# Funnction and argumets and retrun statement\n",
    "\n",
    "function arguments allow us to __pass values__ into a function, making it __more flexible and reusable__. There are __four types of arguments__:\n",
    "\n",
    "1. __Default Arguments__\n",
    "2. __Keyword Arguments__\n",
    "3. __Rquired Arguments__ \n",
    "4. __Varible-Length Arguments__"
   ]
  },
  {
   "cell_type": "code",
   "execution_count": 7,
   "id": "d6ade8ee",
   "metadata": {},
   "outputs": [
    {
     "name": "stdout",
     "output_type": "stream",
     "text": [
      "Hello, Any John Whatson\n"
     ]
    }
   ],
   "source": [
    "# funtion with a default middle name\n",
    "def name(fname,mname =\"John\",iname =\"Whatson\"):\n",
    "    print(\"Hello,\",fname,mname,iname)\n",
    "\n",
    "# Calling funtion with only first name\n",
    "name(\"Any\")    "
   ]
  },
  {
   "cell_type": "code",
   "execution_count": 8,
   "id": "a9fd7fc1",
   "metadata": {},
   "outputs": [
    {
     "name": "stdout",
     "output_type": "stream",
     "text": [
      "Hello, jade peter wesker\n"
     ]
    }
   ],
   "source": [
    "# function with only first name\n",
    "def name(fname,mname,iname):\n",
    "    print(\"Hello,\",fname,mname,iname)\n",
    "\n",
    "# calling funtion using keyword arguments in any order\n",
    "name(mname=\"peter\",iname=\"wesker\",fname=\"jade\")    "
   ]
  },
  {
   "cell_type": "code",
   "execution_count": 10,
   "id": "e7cdec51",
   "metadata": {},
   "outputs": [
    {
     "name": "stdout",
     "output_type": "stream",
     "text": [
      "Hello, james buchnan barnes\n"
     ]
    }
   ],
   "source": [
    "# function with *args (tuple of arguments)\n",
    "def name(*names):\n",
    "    print(\"Hello,\",names[0],names[1],names[2])\n",
    "name(\"james\",\"buchnan\",\"barnes\")          "
   ]
  },
  {
   "cell_type": "code",
   "execution_count": 11,
   "id": "688e08f8",
   "metadata": {},
   "outputs": [
    {
     "name": "stdout",
     "output_type": "stream",
     "text": [
      "Hello, jammes buchan barnes\n"
     ]
    }
   ],
   "source": [
    "# function returning a full name\n",
    "def name(fname,mname,lname):\n",
    "    return \"Hello, \" + fname + \" \" +mname + \" \" + lname\n",
    "\n",
    "# calling the functions and returning its result\n",
    "print(name(\"jammes\",\"buchan\",\"barnes\"))"
   ]
  }
 ],
 "metadata": {
  "kernelspec": {
   "display_name": "python_eda",
   "language": "python",
   "name": "python3"
  },
  "language_info": {
   "codemirror_mode": {
    "name": "ipython",
    "version": 3
   },
   "file_extension": ".py",
   "mimetype": "text/x-python",
   "name": "python",
   "nbconvert_exporter": "python",
   "pygments_lexer": "ipython3",
   "version": "3.11.0"
  }
 },
 "nbformat": 4,
 "nbformat_minor": 5
}
