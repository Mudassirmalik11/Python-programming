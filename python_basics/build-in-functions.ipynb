{
 "cells": [
  {
   "cell_type": "markdown",
   "id": "cb963baa",
   "metadata": {},
   "source": [
    "# Fuctions\n",
    "\n",
    "Just like in a restaurant,where recipes help chefs work __faster and mor efficiently__,function help programmers with __cleaner and reusable__ code.\n",
    "\n",
    "# benefits of functions (Using our restaurant analogy)\n",
    "\n",
    "* __Avoids Repetition__ - instead of writing the same steps repeatedly,we create a function (recipe) and reuse it.\n",
    "* __Modular and Organized__ - just like restaurants have different recipes for different dishes, programs have functions for different tasks.\n",
    "* __Improves Readability & Debugging__ - if there's an issue with a dish,the chef fixes the recipe instead of checking \n",
    "every signle order,similarly, debugging is work with functions.\n",
    "* __Enhance Collaboration__ -different chefs can prpare different dishes simultaneously,just as developers can work on different functions in a program.\n",
    "\n",
    "# types of functions in python\n",
    "\n",
    "just like restaurant have different types of recipes (for main courses,desserts,and drinks),python has different types of functions:\n",
    "\n",
    "1. **Built-in Functions** These are pre-defined function that come with python,like ready-made recipes taht chefs can use immediately.\n",
    "\n",
    "2. **User-defined Functions** these are functions created by the programmer ,lke a chef inventing a new dish for the menu.\n",
    "\n",
    "# Demonstrating Built-in Functions in Python\n",
    "\n",
    "Now that we understand what functions are and why they are useful,let's explore **buit-in funciont** in python.\n",
    "\n",
    "Built-in functions are lik the **ready-made sauces and ingredients** available in a restaurant.Instead of making them from scracth.python provides built-in functions that help us perform common tasks **without writing extra code**."
   ]
  },
  {
   "cell_type": "code",
   "execution_count": 6,
   "id": "a6ecddb8",
   "metadata": {},
   "outputs": [
    {
     "name": "stdout",
     "output_type": "stream",
     "text": [
      "welcome to python functions!\n"
     ]
    }
   ],
   "source": [
    "# the print() function displays outpur (like a waiter serving food).\n",
    "print(\"welcome to python functions!\")"
   ]
  },
  {
   "cell_type": "code",
   "execution_count": 7,
   "id": "59625182",
   "metadata": {},
   "outputs": [
    {
     "name": "stdout",
     "output_type": "stream",
     "text": [
      "Hello, Mudasir\n"
     ]
    }
   ],
   "source": [
    "# input() functions takes user input (like a waiter taking an order).\n",
    "name =input(\"Enter your name:\")\n",
    "print(\"Hello,\",name)"
   ]
  },
  {
   "cell_type": "code",
   "execution_count": 8,
   "id": "9ce6e6b2",
   "metadata": {},
   "outputs": [
    {
     "name": "stdout",
     "output_type": "stream",
     "text": [
      "The type of num is: <class 'int'>\n"
     ]
    }
   ],
   "source": [
    "# The type() functions returns the type of a variable (like checking if an ingredient is fresh or expired)\n",
    "num = 10\n",
    "print(\"The type of num is:\",type(num))"
   ]
  },
  {
   "cell_type": "code",
   "execution_count": 9,
   "id": "e9ea051c",
   "metadata": {},
   "outputs": [
    {
     "name": "stdout",
     "output_type": "stream",
     "text": [
      "The length of the word is: 6\n"
     ]
    }
   ],
   "source": [
    "# the len() functions returns the length of an object (like counting the number of ingredients is a dish).\n",
    "word = \"python\"\n",
    "print(\"The length of the word is:\",len(word))"
   ]
  },
  {
   "cell_type": "code",
   "execution_count": 1,
   "id": "f8b89c61",
   "metadata": {},
   "outputs": [
    {
     "name": "stdout",
     "output_type": "stream",
     "text": [
      "The highest price on the menu is: 700\n"
     ]
    }
   ],
   "source": [
    "# the max() function returns the largest value from a list of numbers (like a restaurant owner checking a dish has the highest price)\n",
    "prices = [10,25,46,700]\n",
    "highest_price = max(prices)\n",
    "print(\"The highest price on the menu is:\",highest_price)"
   ]
  },
  {
   "cell_type": "code",
   "execution_count": 2,
   "id": "da9c9aa1",
   "metadata": {},
   "outputs": [
    {
     "name": "stdout",
     "output_type": "stream",
     "text": [
      "The restaurant ratings from lowest to highest : [3.9, 4.2, 4.5, 4.8, 5.0]\n"
     ]
    }
   ],
   "source": [
    "# the sorted() function sorts a list in ascending order by default(like arranging dishes in a menu from lowest to highest price).\n",
    "\n",
    "ratings = [4.5,3.9,5.0,4.2,4.8]\n",
    "sorted_rating = sorted(ratings)\n",
    "print(\"The restaurant ratings from lowest to highest :\",sorted_rating)"
   ]
  },
  {
   "cell_type": "code",
   "execution_count": 3,
   "id": "3637d914",
   "metadata": {},
   "outputs": [
    {
     "name": "stdout",
     "output_type": "stream",
     "text": [
      "Dishes 1 is ready!\n",
      "Dishes 2 is ready!\n",
      "Dishes 3 is ready!\n",
      "Dishes 4 is ready!\n",
      "Dishes 5 is ready!\n"
     ]
    }
   ],
   "source": [
    "# Generates a sequence of numbers (like preparing a set number of meals for a buffet).\n",
    "for i in range(5):\n",
    "    print(\"Dishes\",i+1,\"is ready!\")"
   ]
  },
  {
   "cell_type": "code",
   "execution_count": 4,
   "id": "bd9addfb",
   "metadata": {},
   "outputs": [
    {
     "name": "stdout",
     "output_type": "stream",
     "text": [
      "The memory address of x is: 140736187238472\n"
     ]
    }
   ],
   "source": [
    "# returns the memory address of an object(like labeling dishes with order numbers).\n",
    "\n",
    "x = 42 \n",
    "print(\"The memory address of x is:\",id(x))"
   ]
  },
  {
   "cell_type": "code",
   "execution_count": 5,
   "id": "2ad3c311",
   "metadata": {},
   "outputs": [
    {
     "name": "stdout",
     "output_type": "stream",
     "text": [
      "The result of the expression is: 11\n"
     ]
    }
   ],
   "source": [
    "# Evalutes expressions(like calculating the bill at the end of a meal).\n",
    "\n",
    "expression = \"5 + 3 * 2\"\n",
    "result = eval(expression)\n",
    "print(\"The result of the expression is:\",result)"
   ]
  }
 ],
 "metadata": {
  "kernelspec": {
   "display_name": "python_eda",
   "language": "python",
   "name": "python3"
  },
  "language_info": {
   "codemirror_mode": {
    "name": "ipython",
    "version": 3
   },
   "file_extension": ".py",
   "mimetype": "text/x-python",
   "name": "python",
   "nbconvert_exporter": "python",
   "pygments_lexer": "ipython3",
   "version": "3.11.0"
  }
 },
 "nbformat": 4,
 "nbformat_minor": 5
}
