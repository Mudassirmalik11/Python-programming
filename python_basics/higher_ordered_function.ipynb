{
 "cells": [
  {
   "cell_type": "markdown",
   "id": "db698ac9",
   "metadata": {},
   "source": [
    "# 1. What are Higher_order functions\n",
    "\n",
    "in python, functions that __take another function as argument or retrun a function as output are called higher order function__.These help make code more readable and efficient.\n",
    "\n",
    "## Common Higher-Order Function:\n",
    "* map(): Applies a function to every item in an iterable.\n",
    "* filter(): Filters elements based on a condition.\n",
    "* reduce():Reduces a sequence to a single value.\n",
    "* zip():Combines multiple iterables into tuples.\n",
    "* enumerate(): Adds an index to an iterable.\n",
    "\n",
    "# 2. Understanding map() Function\n",
    "\n",
    "The map() function applies a given function to each item in an iterable(like list or tuple ) and return iterator with the transformed values.\n",
    "\n",
    "__Sytax__\n",
    "\n",
    "man(funtion,iterable)\n",
    "\n",
    "__Example:Applying map() to double each number in a list__"
   ]
  },
  {
   "cell_type": "code",
   "execution_count": 1,
   "id": "130428cb",
   "metadata": {},
   "outputs": [
    {
     "name": "stdout",
     "output_type": "stream",
     "text": [
      "[2, 4, 6, 8, 10]\n"
     ]
    }
   ],
   "source": [
    "# Function to double a number\n",
    "def double(x):\n",
    "    return x * 2\n",
    "\n",
    "# using map() to double numbers in a list\n",
    "numbers = [1,2,3,4,5]\n",
    "doubled = list(map(double,numbers))\n",
    "print(doubled)  # Output:[2,4,6,8,10]   "
   ]
  },
  {
   "cell_type": "markdown",
   "id": "9385554d",
   "metadata": {},
   "source": [
    "# 3. understanding filter() function\n",
    "\n",
    "The filter() function filters elements in an iterable based on a given condition and returns only the elements taht satisfy that condition.\n",
    "\n",
    "__Syntax:__\n",
    "\n",
    "filter(function,iterable)\n",
    "\n",
    "__Example: Filtering even numbers from a list__"
   ]
  },
  {
   "cell_type": "code",
   "execution_count": 2,
   "id": "e8d4f81d",
   "metadata": {},
   "outputs": [
    {
     "name": "stdout",
     "output_type": "stream",
     "text": [
      "[2, 4, 6]\n"
     ]
    }
   ],
   "source": [
    "# Function to check if a number is even \n",
    "def is_even(x):\n",
    "    return x % 2 == 0\n",
    "# Using filter() to get only even numbers from a list\n",
    "numbers = [1,2,3,4,5,6]\n",
    "evens = list((filter(is_even,numbers)))\n",
    "print(evens)  # Output: [2,4,6]"
   ]
  },
  {
   "cell_type": "markdown",
   "id": "b9725768",
   "metadata": {},
   "source": [
    "# 4.Understanding reduce() Function\n",
    "\n",
    "The reduce() function __reduces__ an iterable into a __single value__ by applying a function \n",
    "\n",
    "__Syntax:__\n",
    "\n",
    "reduce(function,iterable)\n",
    "\n",
    "__Example: Finding the all product of all the numbers in a list__\n"
   ]
  },
  {
   "cell_type": "code",
   "execution_count": 4,
   "id": "734ae9bd",
   "metadata": {},
   "outputs": [
    {
     "name": "stdout",
     "output_type": "stream",
     "text": [
      "120\n"
     ]
    }
   ],
   "source": [
    "from functools import reduce\n",
    "\n",
    "# function to multiply two numbers\n",
    "def multiply(x,y):\n",
    "    return x * y\n",
    "\n",
    "# using reduce() to multiply all numbers in a list\n",
    "numbers = [1,2,3,4,5]\n",
    "product = reduce(multiply,numbers)\n",
    "print(product)  # Output: 120"
   ]
  },
  {
   "cell_type": "markdown",
   "id": "c011912e",
   "metadata": {},
   "source": [
    "# 5.Understanding zip() function\n",
    "\n",
    "The zip() function combines muptile iterable __element-wise__ into tuples.\n",
    "\n",
    "__Sytnax:__\n",
    "\n",
    "zip(iterable1,iterable2,...)\n",
    "\n",
    "__Example: Pairing names and ages using zip()__"
   ]
  },
  {
   "cell_type": "code",
   "execution_count": 5,
   "id": "90c6ed52",
   "metadata": {},
   "outputs": [
    {
     "name": "stdout",
     "output_type": "stream",
     "text": [
      "[('Alice', 25), ('Bob', 30), ('Charlie', 35)]\n"
     ]
    }
   ],
   "source": [
    "# Using zip() to pair names and ages\n",
    "names = ['Alice','Bob','Charlie']\n",
    "ages = [25,30,35]\n",
    "paired = list(zip(names,ages))\n",
    "print(paired)  # Output: [('Alice',25),('Bob',30),'Charlie',35]"
   ]
  },
  {
   "cell_type": "markdown",
   "id": "ba8bd653",
   "metadata": {},
   "source": [
    "# 5. Understanding enumerate() Function\n",
    "\n",
    "enumerate() adds an index to an iterable\n",
    "\n",
    "This function adds a counter to each item in the iterable, returning an enumerate object.\n",
    "\n",
    "__Syntax: enumerate(iterable,start=0)__\n",
    "\n",
    "The start parameter allows you to specify the starting value for the counter (default is 0).\n",
    "\n",
    "__Example: use enumerate() to create an indexed list of fruits__\n",
    "\n",
    "This helps when you need both the index and value during iteration."
   ]
  },
  {
   "cell_type": "code",
   "execution_count": 6,
   "id": "e52f6f3a",
   "metadata": {},
   "outputs": [
    {
     "name": "stdout",
     "output_type": "stream",
     "text": [
      "1:Apple\n",
      "2:Banana\n",
      "3:Cherry\n"
     ]
    }
   ],
   "source": [
    "# using enumerate() to print index and value\n",
    "fruits = [\"Apple\",\"Banana\",\"Cherry\"]\n",
    "for index,fruit in enumerate(fruits,start=1):\n",
    "    print(f\"{index}:{fruit}\")"
   ]
  }
 ],
 "metadata": {
  "kernelspec": {
   "display_name": "python_eda",
   "language": "python",
   "name": "python3"
  },
  "language_info": {
   "codemirror_mode": {
    "name": "ipython",
    "version": 3
   },
   "file_extension": ".py",
   "mimetype": "text/x-python",
   "name": "python",
   "nbconvert_exporter": "python",
   "pygments_lexer": "ipython3",
   "version": "3.11.0"
  }
 },
 "nbformat": 4,
 "nbformat_minor": 5
}
