{
 "cells": [
  {
   "cell_type": "markdown",
   "id": "097a90f0",
   "metadata": {},
   "source": [
    "# Operators in Python\n",
    "\n",
    "Python provides various operators to perform computations and logical operations. \n",
    "\n",
    "# Assignment Operators\n",
    "\n",
    "Assignment operators are used to assign values to variables. For example, = assigns,while adds and assigns."
   ]
  },
  {
   "cell_type": "code",
   "execution_count": 2,
   "id": "aac6cdfa",
   "metadata": {},
   "outputs": [
    {
     "name": "stdout",
     "output_type": "stream",
     "text": [
      "x= 8\n"
     ]
    }
   ],
   "source": [
    "# Assignment Operators Examples\n",
    "x = 5   # Assigning value\n",
    "x += 3  # Equivalent to x = x+3\n",
    "print(\"x=\",x)"
   ]
  },
  {
   "cell_type": "markdown",
   "id": "bbc2538d",
   "metadata": {},
   "source": [
    "# Arithmetic operators\n",
    "\n",
    "Arithmetic operators are used for mathematical operations like addition,subtraction,multiplication,and division."
   ]
  },
  {
   "cell_type": "code",
   "execution_count": 3,
   "id": "0ae50083",
   "metadata": {},
   "outputs": [
    {
     "name": "stdout",
     "output_type": "stream",
     "text": [
      "Addition: 13\n",
      "Subtraction: 7\n",
      "Multiplication: 30\n",
      "Division: 3.3333333333333335\n",
      "Modulus: 1\n",
      "Floor Division: 3\n",
      "Exponentiation: 1000\n"
     ]
    }
   ],
   "source": [
    "# Arithmetic operations\n",
    "a,b = 10,3\n",
    "print(\"Addition:\", a + b)\n",
    "print(\"Subtraction:\", a - b)\n",
    "print(\"Multiplication:\", a * b)\n",
    "print(\"Division:\", a / b)\n",
    "print(\"Modulus:\", a % b)\n",
    "print(\"Floor Division:\", a // b)\n",
    "print(\"Exponentiation:\", a ** b)\n",
    "\n"
   ]
  },
  {
   "cell_type": "markdown",
   "id": "512eb09e",
   "metadata": {},
   "source": [
    "# Comparison Operators\n",
    "\n",
    "Comparison operators compare values and return True and False."
   ]
  },
  {
   "cell_type": "code",
   "execution_count": 4,
   "id": "ff825df9",
   "metadata": {},
   "outputs": [
    {
     "name": "stdout",
     "output_type": "stream",
     "text": [
      "x > y : False\n",
      "x < y : True\n",
      "x == y : False\n",
      "x != y : True\n",
      "x >= y : False\n",
      "x <= y : True\n"
     ]
    }
   ],
   "source": [
    "# Comparison operators\n",
    "x, y = 5, 10\n",
    "print(\"x > y :\",x > y)\n",
    "print(\"x < y :\",x < y)\n",
    "print(\"x == y :\",x == y)\n",
    "print(\"x != y :\",x != y)\n",
    "print(\"x >= y :\",x >= y)\n",
    "print(\"x <= y :\",x <= y)"
   ]
  },
  {
   "cell_type": "markdown",
   "id": "2caacd34",
   "metadata": {},
   "source": [
    "# Logical Operators\n",
    "\n",
    "Logical operators (and,or,not) are used to combine multiple conditions.\n"
   ]
  },
  {
   "cell_type": "code",
   "execution_count": 6,
   "id": "f80f0922",
   "metadata": {},
   "outputs": [
    {
     "name": "stdout",
     "output_type": "stream",
     "text": [
      "a and b: False\n",
      "a or b: True\n",
      " not b: True\n"
     ]
    }
   ],
   "source": [
    "# Logical Operators\n",
    "a, b = True, False\n",
    "print(\"a and b:\",a and b)\n",
    "print(\"a or b:\",a or b)\n",
    "print(\" not b:\",not b)"
   ]
  }
 ],
 "metadata": {
  "kernelspec": {
   "display_name": "python_eda",
   "language": "python",
   "name": "python3"
  },
  "language_info": {
   "codemirror_mode": {
    "name": "ipython",
    "version": 3
   },
   "file_extension": ".py",
   "mimetype": "text/x-python",
   "name": "python",
   "nbconvert_exporter": "python",
   "pygments_lexer": "ipython3",
   "version": "3.11.0"
  }
 },
 "nbformat": 4,
 "nbformat_minor": 5
}
